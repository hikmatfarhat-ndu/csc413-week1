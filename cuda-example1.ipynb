{
  "nbformat": 4,
  "nbformat_minor": 0,
  "metadata": {
    "colab": {
      "name": "Untitled11.ipynb",
      "provenance": [],
      "authorship_tag": "ABX9TyPF84YQGojkmq+8HOR3R1EH",
      "include_colab_link": true
    },
    "kernelspec": {
      "name": "python3",
      "display_name": "Python 3"
    },
    "accelerator": "GPU"
  },
  "cells": [
    {
      "cell_type": "markdown",
      "metadata": {
        "id": "view-in-github",
        "colab_type": "text"
      },
      "source": [
        "<a href=\"https://colab.research.google.com/github/hikmatfarhat-ndu/csc413-week1/blob/master/cuda-example1.ipynb\" target=\"_parent\"><img src=\"https://colab.research.google.com/assets/colab-badge.svg\" alt=\"Open In Colab\"/></a>"
      ]
    },
    {
      "cell_type": "code",
      "metadata": {
        "colab": {
          "base_uri": "https://localhost:8080/"
        },
        "id": "0FHbxrTGGQ-l",
        "outputId": "dc150e91-422b-4e49-b1c2-ec5d522e4197"
      },
      "source": [
        "%%writefile cuda-example1.cu\r\n",
        "#include \"cuda_runtime.h\"\r\n",
        "#include \"device_launch_parameters.h\"\r\n",
        "#include <iostream>\r\n",
        "\r\n",
        "__global__ void kernel(int* a) {\r\n",
        "\t*a = 17;\r\n",
        "\t\r\n",
        "}\r\n",
        "\r\n",
        "int main() {\r\n",
        "\tint a = 3;\r\n",
        "\tint* da = 0;\r\n",
        "\tcudaMalloc(&da, sizeof(int));\r\n",
        "\tkernel << <1, 1 >> > (da);\r\n",
        "\tcudaMemcpy(&a, da, sizeof(int), cudaMemcpyDeviceToHost);\r\n",
        "\tstd::cout << a << '\\n';\r\n",
        "\tcudaFree(da);\r\n",
        "\r\n",
        "}"
      ],
      "execution_count": 1,
      "outputs": [
        {
          "output_type": "stream",
          "text": [
            "Writing cuda-example1.cu\n"
          ],
          "name": "stdout"
        }
      ]
    },
    {
      "cell_type": "code",
      "metadata": {
        "colab": {
          "base_uri": "https://localhost:8080/"
        },
        "id": "qatsSZ3NGjpr",
        "outputId": "351fede1-f066-4897-8056-d43a13f942e6"
      },
      "source": [
        "%%script bash \r\n",
        "nvcc cuda-example1.cu -o cuda-example1\r\n",
        "./cuda-example1"
      ],
      "execution_count": 2,
      "outputs": [
        {
          "output_type": "stream",
          "text": [
            "17\n"
          ],
          "name": "stdout"
        }
      ]
    },
    {
      "cell_type": "code",
      "metadata": {
        "id": "NiwAH6KIGtcW"
      },
      "source": [
        ""
      ],
      "execution_count": null,
      "outputs": []
    }
  ]
}
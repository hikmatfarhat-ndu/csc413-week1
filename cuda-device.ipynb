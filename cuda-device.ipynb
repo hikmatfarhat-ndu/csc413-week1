{
  "nbformat": 4,
  "nbformat_minor": 0,
  "metadata": {
    "colab": {
      "name": "Untitled10.ipynb",
      "provenance": [],
      "authorship_tag": "ABX9TyPXSYjQy5KHqYOdwjMxaLIE",
      "include_colab_link": true
    },
    "kernelspec": {
      "name": "python3",
      "display_name": "Python 3"
    },
    "accelerator": "GPU"
  },
  "cells": [
    {
      "cell_type": "markdown",
      "metadata": {
        "id": "view-in-github",
        "colab_type": "text"
      },
      "source": [
        "<a href=\"https://colab.research.google.com/github/hikmatfarhat-ndu/csc413-week1/blob/master/cuda-device.ipynb\" target=\"_parent\"><img src=\"https://colab.research.google.com/assets/colab-badge.svg\" alt=\"Open In Colab\"/></a>"
      ]
    },
    {
      "cell_type": "code",
      "metadata": {
        "colab": {
          "base_uri": "https://localhost:8080/"
        },
        "id": "8CHQqC7Iwd1b",
        "outputId": "3e059a1c-ea1c-4917-fd7a-0d34a26db6dc"
      },
      "source": [
        "%%writefile cuda-device.cu\r\n",
        "#include \"cuda_runtime.h\"\r\n",
        "#include \"device_launch_parameters.h\"\r\n",
        "\r\n",
        "#include <iostream>\r\n",
        "\r\n",
        "\r\n",
        "int main()\r\n",
        "{\r\n",
        "\tint device;\r\n",
        "\r\n",
        "\tcudaDeviceProp properties;\r\n",
        "\tcudaError_t err = cudaSuccess;\r\n",
        "\terr = cudaGetDevice(&device);\r\n",
        "\terr = cudaGetDeviceProperties(&properties, device);\r\n",
        "\tstd::cout << \"processor count\" << properties.multiProcessorCount << std::endl;\r\n",
        "\tstd::cout << \"warp size \" << properties.warpSize << std::endl;\r\n",
        "\tstd::cout << \"name=\" << properties.name << std::endl;\r\n",
        "\tstd::cout << \"Compute capability \" << properties.major << \".\" << properties.minor << \"\\n\";\r\n",
        "\tstd::cout << \"shared Memory/SM \" << properties.sharedMemPerMultiprocessor\r\n",
        "\t\t<< std::endl;\r\n",
        "\t//  std::cout<<\"max blocks/SM \"<<properties.maxBlocksPerMultiProcessor\r\n",
        "\t // <<std::endl;\r\n",
        "\tif (err == cudaSuccess)\r\n",
        "\t\tprintf(\"device =%d\\n\", device);\r\n",
        "\telse\r\n",
        "\t\tprintf(\"error getting deivce\\n\");\r\n",
        "\treturn 0;\r\n",
        "}\r\n",
        "\r\n"
      ],
      "execution_count": 1,
      "outputs": [
        {
          "output_type": "stream",
          "text": [
            "Writing cuda-device.cu\n"
          ],
          "name": "stdout"
        }
      ]
    },
    {
      "cell_type": "code",
      "metadata": {
        "colab": {
          "base_uri": "https://localhost:8080/"
        },
        "id": "Foxqx74awmAF",
        "outputId": "e37ade92-ed2b-4ed1-ebe7-a8df49843767"
      },
      "source": [
        "%%script bash\r\n",
        "\r\n",
        "nvcc cuda-device.cu -o cuda-device\r\n",
        "./cuda-device"
      ],
      "execution_count": 4,
      "outputs": [
        {
          "output_type": "stream",
          "text": [
            "processor count56\n",
            "warp size 32\n",
            "name=Tesla P100-PCIE-16GB\n",
            "Compute capability 6.0\n",
            "shared Memory/SM 65536\n",
            "device =0\n"
          ],
          "name": "stdout"
        }
      ]
    }
  ]
}
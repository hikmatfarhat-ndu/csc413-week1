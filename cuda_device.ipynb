{
  "nbformat": 4,
  "nbformat_minor": 0,
  "metadata": {
    "colab": {
      "name": "cuda-device.ipynb",
      "provenance": [],
      "authorship_tag": "ABX9TyPa55jL0qrYCR47/iOMFb3W",
      "include_colab_link": true
    },
    "kernelspec": {
      "name": "python3",
      "display_name": "Python 3"
    },
    "accelerator": "GPU"
  },
  "cells": [
    {
      "cell_type": "markdown",
      "metadata": {
        "id": "view-in-github",
        "colab_type": "text"
      },
      "source": [
        "<a href=\"https://colab.research.google.com/github/hikmatfarhat-ndu/csc413-week1/blob/master/cuda_device.ipynb\" target=\"_parent\"><img src=\"https://colab.research.google.com/assets/colab-badge.svg\" alt=\"Open In Colab\"/></a>"
      ]
    },
    {
      "cell_type": "code",
      "metadata": {
        "colab": {
          "base_uri": "https://localhost:8080/"
        },
        "id": "1cUeouuPb5C6",
        "outputId": "133fb286-2902-441c-dd38-a5818bb9b4d6"
      },
      "source": [
        "!pip install git+git://github.com/andreinechaev/nvcc4jupyter.git\r\n"
      ],
      "execution_count": 1,
      "outputs": [
        {
          "output_type": "stream",
          "text": [
            "Collecting git+git://github.com/andreinechaev/nvcc4jupyter.git\n",
            "  Cloning git://github.com/andreinechaev/nvcc4jupyter.git to /tmp/pip-req-build-5lu3tlte\n",
            "  Running command git clone -q git://github.com/andreinechaev/nvcc4jupyter.git /tmp/pip-req-build-5lu3tlte\n",
            "Building wheels for collected packages: NVCCPlugin\n",
            "  Building wheel for NVCCPlugin (setup.py) ... \u001b[?25l\u001b[?25hdone\n",
            "  Created wheel for NVCCPlugin: filename=NVCCPlugin-0.0.2-cp36-none-any.whl size=4308 sha256=cc8cdb378c7d1bb484f9ff9b4f452962e0fff209fefd92ee7b70509e8caa120a\n",
            "  Stored in directory: /tmp/pip-ephem-wheel-cache-pnzr0i90/wheels/10/c2/05/ca241da37bff77d60d31a9174f988109c61ba989e4d4650516\n",
            "Successfully built NVCCPlugin\n",
            "Installing collected packages: NVCCPlugin\n",
            "Successfully installed NVCCPlugin-0.0.2\n"
          ],
          "name": "stdout"
        }
      ]
    },
    {
      "cell_type": "code",
      "metadata": {
        "colab": {
          "base_uri": "https://localhost:8080/"
        },
        "id": "2oQAPahyb-Sy",
        "outputId": "92518952-cb5c-4785-d83e-2b3c969fc6f7"
      },
      "source": [
        "%load_ext nvcc_plugin"
      ],
      "execution_count": 2,
      "outputs": [
        {
          "output_type": "stream",
          "text": [
            "created output directory at /content/src\n",
            "Out bin /content/result.out\n"
          ],
          "name": "stdout"
        }
      ]
    },
    {
      "cell_type": "code",
      "metadata": {
        "colab": {
          "base_uri": "https://localhost:8080/"
        },
        "id": "dg67HjMtcCJK",
        "outputId": "d480f779-c988-4223-aed6-257c6ab554fb"
      },
      "source": [
        "%%cu\r\n",
        "\r\n",
        "#include \"cuda_runtime.h\"\r\n",
        "#include \"device_launch_parameters.h\"\r\n",
        "\r\n",
        "#include <iostream>\r\n",
        "\r\n",
        "\r\n",
        "int main()\r\n",
        "{\r\n",
        "\tint device;\r\n",
        "\r\n",
        "\tcudaDeviceProp properties;\r\n",
        "\tcudaError_t err = cudaSuccess;\r\n",
        "\terr = cudaGetDevice(&device);\r\n",
        "\terr = cudaGetDeviceProperties(&properties, device);\r\n",
        "\tstd::cout << \"processor count\" << properties.multiProcessorCount << std::endl;\r\n",
        "\tstd::cout << \"warp size \" << properties.warpSize << std::endl;\r\n",
        "\tstd::cout << \"name=\" << properties.name << std::endl;\r\n",
        "\tstd::cout << \"Compute capability \" << properties.major << \".\" << properties.minor << \"\\n\";\r\n",
        "\tstd::cout << \"shared Memory/SM \" << properties.sharedMemPerMultiprocessor\r\n",
        "\t\t<< std::endl;\r\n",
        "\t//  std::cout<<\"max blocks/SM \"<<properties.maxBlocksPerMultiProcessor\r\n",
        "\t // <<std::endl;\r\n",
        "\tif (err == cudaSuccess)\r\n",
        "\t\tprintf(\"device =%d\\n\", device);\r\n",
        "\telse\r\n",
        "\t\tprintf(\"error getting deivce\\n\");\r\n",
        "\treturn 0;\r\n",
        "}\r\n"
      ],
      "execution_count": 3,
      "outputs": [
        {
          "output_type": "stream",
          "text": [
            "processor count40\n",
            "warp size 32\n",
            "name=Tesla T4\n",
            "Compute capability 7.5\n",
            "shared Memory/SM 65536\n",
            "device =0\n",
            "\n"
          ],
          "name": "stdout"
        }
      ]
    },
    {
      "cell_type": "code",
      "metadata": {
        "id": "dHhp3h3_cZTo"
      },
      "source": [
        ""
      ],
      "execution_count": null,
      "outputs": []
    }
  ]
}